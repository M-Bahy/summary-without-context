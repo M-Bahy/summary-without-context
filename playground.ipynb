{
 "cells": [
  {
   "cell_type": "markdown",
   "metadata": {},
   "source": [
    "# Summary Without Context"
   ]
  },
  {
   "cell_type": "markdown",
   "metadata": {},
   "source": [
    "## Imports"
   ]
  },
  {
   "cell_type": "code",
   "execution_count": 1,
   "metadata": {},
   "outputs": [],
   "source": [
    "from atproto import Client, client_utils\n",
    "from dotenv import load_dotenv\n",
    "from bidi.algorithm import get_display\n",
    "import arabic_reshaper\n",
    "import os"
   ]
  },
  {
   "cell_type": "markdown",
   "metadata": {},
   "source": [
    "## Login"
   ]
  },
  {
   "cell_type": "code",
   "execution_count": 14,
   "metadata": {},
   "outputs": [],
   "source": [
    "def in_notebook():\n",
    "    try:\n",
    "        shell = get_ipython().__class__.__name__\n",
    "        if shell == 'ZMQInteractiveShell':\n",
    "            return True  # Jupyter notebook or qtconsole\n",
    "        elif shell == 'TerminalInteractiveShell':\n",
    "            return False  # Terminal running IPython\n",
    "        else:\n",
    "            return False  # Other type (?)\n",
    "    except NameError:\n",
    "        return False  # Probably standard Python interpreter"
   ]
  },
  {
   "cell_type": "code",
   "execution_count": 16,
   "metadata": {},
   "outputs": [
    {
     "name": "stdout",
     "output_type": "stream",
     "text": [
      "Hello باهي from Bluesky Python SDK\n"
     ]
    }
   ],
   "source": [
    "load_dotenv()\n",
    "\n",
    "USERNAME = os.getenv(\"BLUESKY_USERNAME\")\n",
    "PASSWORD = os.getenv(\"BLUESKY_PASSWORD\")\n",
    "\n",
    "client = Client()\n",
    "profile = client.login(USERNAME, PASSWORD)\n",
    "\n",
    "name = profile.display_name\n",
    "# Handle Arabic text in terminal\n",
    "if not in_notebook() and not name.isascii():\n",
    "    reshaped_text = arabic_reshaper.reshape(name)\n",
    "    name = get_display(reshaped_text)\n",
    "\n",
    "print(f\"Hello {name} from Bluesky Python SDK\")"
   ]
  },
  {
   "cell_type": "markdown",
   "metadata": {},
   "source": [
    "## Playground"
   ]
  },
  {
   "cell_type": "markdown",
   "metadata": {},
   "source": [
    "### Post text"
   ]
  },
  {
   "cell_type": "code",
   "execution_count": 19,
   "metadata": {},
   "outputs": [
    {
     "name": "stdout",
     "output_type": "stream",
     "text": [
      "Post sent successfully\n"
     ]
    }
   ],
   "source": [
    "text = client_utils.TextBuilder().text('Hello World from ')\n",
    "text = text.link('Python SDK', 'https://atproto.blue')\n",
    "post = client.send_post(text)\n",
    "\n",
    "if post:\n",
    "    print(\"Post sent successfully\")"
   ]
  }
 ],
 "metadata": {
  "kernelspec": {
   "display_name": "bluesky_env",
   "language": "python",
   "name": "python3"
  },
  "language_info": {
   "codemirror_mode": {
    "name": "ipython",
    "version": 3
   },
   "file_extension": ".py",
   "mimetype": "text/x-python",
   "name": "python",
   "nbconvert_exporter": "python",
   "pygments_lexer": "ipython3",
   "version": "3.12.2"
  }
 },
 "nbformat": 4,
 "nbformat_minor": 2
}
