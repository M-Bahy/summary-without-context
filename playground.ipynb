{
 "cells": [
  {
   "cell_type": "markdown",
   "metadata": {},
   "source": [
    "# Summary Without Context"
   ]
  },
  {
   "cell_type": "markdown",
   "metadata": {},
   "source": [
    "## Imports"
   ]
  },
  {
   "cell_type": "code",
   "execution_count": 109,
   "metadata": {},
   "outputs": [],
   "source": [
    "from atproto import Client, client_utils\n",
    "from dotenv import load_dotenv\n",
    "from bidi.algorithm import get_display\n",
    "import arabic_reshaper\n",
    "import os\n",
    "import json"
   ]
  },
  {
   "cell_type": "markdown",
   "metadata": {},
   "source": [
    "## Login"
   ]
  },
  {
   "cell_type": "code",
   "execution_count": 39,
   "metadata": {},
   "outputs": [],
   "source": [
    "def in_notebook():\n",
    "    try:\n",
    "        shell = get_ipython().__class__.__name__\n",
    "        if shell == 'ZMQInteractiveShell':\n",
    "            return True  # Jupyter notebook or qtconsole\n",
    "        elif shell == 'TerminalInteractiveShell':\n",
    "            return False  # Terminal running IPython\n",
    "        else:\n",
    "            return False  # Other type (?)\n",
    "    except NameError:\n",
    "        return False  # Probably standard Python interpreter"
   ]
  },
  {
   "cell_type": "code",
   "execution_count": 40,
   "metadata": {},
   "outputs": [
    {
     "name": "stdout",
     "output_type": "stream",
     "text": [
      "Hello باهي from Bluesky Python SDK\n"
     ]
    }
   ],
   "source": [
    "load_dotenv()\n",
    "\n",
    "USERNAME = os.getenv(\"BLUESKY_USERNAME\")\n",
    "PASSWORD = os.getenv(\"BLUESKY_PASSWORD\")\n",
    "\n",
    "client = Client()\n",
    "profile = client.login(USERNAME, PASSWORD)\n",
    "\n",
    "name = profile.display_name\n",
    "# Handle Arabic text in terminal\n",
    "if not in_notebook() and not name.isascii():\n",
    "    reshaped_text = arabic_reshaper.reshape(name)\n",
    "    name = get_display(reshaped_text)\n",
    "\n",
    "print(f\"Hello {name} from Bluesky Python SDK\")"
   ]
  },
  {
   "cell_type": "markdown",
   "metadata": {},
   "source": [
    "## Playground"
   ]
  },
  {
   "cell_type": "markdown",
   "metadata": {},
   "source": [
    "### Post text"
   ]
  },
  {
   "cell_type": "code",
   "execution_count": 47,
   "metadata": {},
   "outputs": [
    {
     "name": "stdout",
     "output_type": "stream",
     "text": [
      "Post sent successfully\n"
     ]
    }
   ],
   "source": [
    "content = \"اخر محاوله خلاص الthing المفروض شغال بس بنجرب تاني who knows يعني\"\n",
    "\n",
    "text = client_utils.TextBuilder().text(content)\n",
    "# text = text.link('Python SDK', 'https://atproto.blue')\n",
    "post = client.send_post(text)\n",
    "\n",
    "if post:\n",
    "    print(\"Post sent successfully\")"
   ]
  },
  {
   "cell_type": "markdown",
   "metadata": {},
   "source": [
    "### Post with single image"
   ]
  },
  {
   "cell_type": "code",
   "execution_count": 36,
   "metadata": {},
   "outputs": [],
   "source": [
    "def open_as_binary(file_path):\n",
    "    \"\"\"\n",
    "    Opens an image file as binary.\n",
    "\n",
    "    Args:\n",
    "        file_path (str): Path to the image file.\n",
    "\n",
    "    Returns:\n",
    "        bytes: Binary content of the image file.\n",
    "    \"\"\"\n",
    "    with open(file_path, \"rb\") as image_file:\n",
    "        binary_content = image_file.read()\n",
    "    return binary_content"
   ]
  },
  {
   "cell_type": "code",
   "execution_count": null,
   "metadata": {},
   "outputs": [
    {
     "name": "stdout",
     "output_type": "stream",
     "text": [
      "Image post sent successfully\n"
     ]
    }
   ],
   "source": [
    "text = client_utils.TextBuilder().text('تجربة النشر باللغه العربيه عن طريق بايثون زائد صوره , صورة افضل مصارع في العالم')\n",
    "alt_text = \"A picture of the best wrestler on god's green earth - Kenny Omega\"\n",
    "post = client.send_image(text=text, image=open_as_binary(\"Images/kenny.jpg\"), image_alt=alt_text)\n",
    "if post:\n",
    "    print(\"Image post sent successfully\")"
   ]
  },
  {
   "cell_type": "markdown",
   "metadata": {},
   "source": [
    "### Post with multiple languages and images"
   ]
  },
  {
   "cell_type": "code",
   "execution_count": 115,
   "metadata": {},
   "outputs": [
    {
     "name": "stdout",
     "output_type": "stream",
     "text": [
      "Multiple images sent successfully\n"
     ]
    }
   ],
   "source": [
    "content = \"⏳\"\n",
    "text = client_utils.TextBuilder().text(content)\n",
    "images = [open_as_binary(\"Media/my list.jpeg\"), \n",
    "          open_as_binary(\"Media/cody list.jpeg\")]\n",
    "post = client.send_images(text=text, images=images)\n",
    "if post:\n",
    "    print(\"Multiple images sent successfully\")"
   ]
  },
  {
   "cell_type": "markdown",
   "metadata": {},
   "source": [
    "### Post with video"
   ]
  },
  {
   "cell_type": "code",
   "execution_count": 43,
   "metadata": {},
   "outputs": [
    {
     "name": "stdout",
     "output_type": "stream",
     "text": [
      "Video post sent successfully\n"
     ]
    }
   ],
   "source": [
    "content = \"واحد\" + \"/n\" \n",
    "content += \"two\" + \"/n\"\n",
    "content += \"ثلاثة\" + \"/n\"\n",
    "content += \"/n\" + \"/n\"\n",
    "content += \"Posting a video with multiple lines of text\"\n",
    "text = client_utils.TextBuilder().text(content)\n",
    "video = open_as_binary(\"Media/The Feeling.mp4\")\n",
    "post = client.send_video(text=text, video=video)\n",
    "if post:\n",
    "    print(\"Video post sent successfully\")"
   ]
  },
  {
   "cell_type": "markdown",
   "metadata": {},
   "source": [
    "### Get posts in my profile"
   ]
  },
  {
   "cell_type": "code",
   "execution_count": 111,
   "metadata": {},
   "outputs": [
    {
     "name": "stdout",
     "output_type": "stream",
     "text": [
      "at://did:plc:o7pw44raoolontptnym2sghc/app.bsky.feed.post/3lfic6l4vzz23\n",
      "at://did:plc:o7pw44raoolontptnym2sghc/app.bsky.feed.post/3lfibzu77bu25\n",
      "at://did:plc:o7pw44raoolontptnym2sghc/app.bsky.feed.post/3lfibx6edtr23\n",
      "at://did:plc:o7pw44raoolontptnym2sghc/app.bsky.feed.post/3lfibnx7osq2m\n",
      "at://did:plc:o7pw44raoolontptnym2sghc/app.bsky.feed.post/3lfi5qgzkik2s\n",
      "at://did:plc:o7pw44raoolontptnym2sghc/app.bsky.feed.post/3lfhze2dgrb2i\n",
      "at://did:plc:o7pw44raoolontptnym2sghc/app.bsky.feed.post/3lfhyrwdb2d2i\n"
     ]
    }
   ],
   "source": [
    "posts = client.app.bsky.feed.get_author_feed(\n",
    "    {\n",
    "    'actor': client.me.did,\n",
    "    'limit': 7,\n",
    "}\n",
    ")\n",
    "posts = json.loads(posts.model_dump_json()).get('feed')\n",
    "uris = []\n",
    "for post in posts:\n",
    "    uris.append(post.get(\"post\").get(\"uri\"))\n",
    "    print(post.get(\"post\").get(\"uri\"))\n"
   ]
  },
  {
   "cell_type": "markdown",
   "metadata": {},
   "source": [
    "### Delete post"
   ]
  },
  {
   "cell_type": "code",
   "execution_count": 112,
   "metadata": {},
   "outputs": [
    {
     "name": "stdout",
     "output_type": "stream",
     "text": [
      "Post deleted successfully\n",
      "Post deleted successfully\n",
      "Post deleted successfully\n",
      "Post deleted successfully\n",
      "Post deleted successfully\n",
      "Post deleted successfully\n",
      "Post deleted successfully\n"
     ]
    }
   ],
   "source": [
    "for uri in uris:\n",
    "    state =  client.delete_post(uri)\n",
    "    if state:\n",
    "        print(\"Post deleted successfully\")\n",
    "    else:\n",
    "        print(\"Post deletion failed\")"
   ]
  }
 ],
 "metadata": {
  "kernelspec": {
   "display_name": "bluesky_env",
   "language": "python",
   "name": "python3"
  },
  "language_info": {
   "codemirror_mode": {
    "name": "ipython",
    "version": 3
   },
   "file_extension": ".py",
   "mimetype": "text/x-python",
   "name": "python",
   "nbconvert_exporter": "python",
   "pygments_lexer": "ipython3",
   "version": "3.12.2"
  }
 },
 "nbformat": 4,
 "nbformat_minor": 2
}
